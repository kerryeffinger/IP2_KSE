{
 "cells": [
  {
   "cell_type": "markdown",
   "metadata": {},
   "source": [
    "# Individual Project 2"
   ]
  },
  {
   "cell_type": "markdown",
   "metadata": {},
   "source": [
    "**Author:** Kerry Effinger  \n",
    "**Version:** 1.2  \n",
    "**Semester:** Spring 2021  \n",
    "**Summary:** "
   ]
  },
  {
   "cell_type": "code",
   "execution_count": 2,
   "metadata": {},
   "outputs": [],
   "source": [
    "import csv\n",
    "import numpy as np\n",
    "from prettytable import PrettyTable\n",
    "import pandas as pd"
   ]
  },
  {
   "cell_type": "markdown",
   "metadata": {},
   "source": [
    "1. Reads the file called \"weather_2012.csv\" that is in the same folder as this notebook."
   ]
  },
  {
   "cell_type": "code",
   "execution_count": 3,
   "metadata": {},
   "outputs": [],
   "source": [
    "df = pd.read_csv('weather_2012.csv')"
   ]
  },
  {
   "cell_type": "markdown",
   "metadata": {},
   "source": [
    "2. The pandas functions head and tail will give the first five and last five rows of data respectively. The function sample will give a random sample of the data of the size specified in parentheses"
   ]
  },
  {
   "cell_type": "code",
   "execution_count": 4,
   "metadata": {},
   "outputs": [
    {
     "data": {
      "text/html": [
       "<div>\n",
       "<style scoped>\n",
       "    .dataframe tbody tr th:only-of-type {\n",
       "        vertical-align: middle;\n",
       "    }\n",
       "\n",
       "    .dataframe tbody tr th {\n",
       "        vertical-align: top;\n",
       "    }\n",
       "\n",
       "    .dataframe thead th {\n",
       "        text-align: right;\n",
       "    }\n",
       "</style>\n",
       "<table border=\"1\" class=\"dataframe\">\n",
       "  <thead>\n",
       "    <tr style=\"text-align: right;\">\n",
       "      <th></th>\n",
       "      <th>Date/Time</th>\n",
       "      <th>Temp (C)</th>\n",
       "      <th>Dew Point Temp (C)</th>\n",
       "      <th>Rel Hum (%)</th>\n",
       "      <th>Wind Spd (km/h)</th>\n",
       "      <th>Visibility (km)</th>\n",
       "      <th>Stn Press (kPa)</th>\n",
       "      <th>Weather</th>\n",
       "    </tr>\n",
       "  </thead>\n",
       "  <tbody>\n",
       "    <tr>\n",
       "      <th>0</th>\n",
       "      <td>2012-01-01 00:00:00</td>\n",
       "      <td>-1.8</td>\n",
       "      <td>-3.9</td>\n",
       "      <td>86</td>\n",
       "      <td>4</td>\n",
       "      <td>8.0</td>\n",
       "      <td>101.24</td>\n",
       "      <td>Fog</td>\n",
       "    </tr>\n",
       "    <tr>\n",
       "      <th>1</th>\n",
       "      <td>2012-01-01 01:00:00</td>\n",
       "      <td>-1.8</td>\n",
       "      <td>-3.7</td>\n",
       "      <td>87</td>\n",
       "      <td>4</td>\n",
       "      <td>8.0</td>\n",
       "      <td>101.24</td>\n",
       "      <td>Fog</td>\n",
       "    </tr>\n",
       "    <tr>\n",
       "      <th>2</th>\n",
       "      <td>2012-01-01 02:00:00</td>\n",
       "      <td>-1.8</td>\n",
       "      <td>-3.4</td>\n",
       "      <td>89</td>\n",
       "      <td>7</td>\n",
       "      <td>4.0</td>\n",
       "      <td>101.26</td>\n",
       "      <td>Freezing Drizzle,Fog</td>\n",
       "    </tr>\n",
       "    <tr>\n",
       "      <th>3</th>\n",
       "      <td>2012-01-01 03:00:00</td>\n",
       "      <td>-1.5</td>\n",
       "      <td>-3.2</td>\n",
       "      <td>88</td>\n",
       "      <td>6</td>\n",
       "      <td>4.0</td>\n",
       "      <td>101.27</td>\n",
       "      <td>Freezing Drizzle,Fog</td>\n",
       "    </tr>\n",
       "    <tr>\n",
       "      <th>4</th>\n",
       "      <td>2012-01-01 04:00:00</td>\n",
       "      <td>-1.5</td>\n",
       "      <td>-3.3</td>\n",
       "      <td>88</td>\n",
       "      <td>7</td>\n",
       "      <td>4.8</td>\n",
       "      <td>101.23</td>\n",
       "      <td>Fog</td>\n",
       "    </tr>\n",
       "  </tbody>\n",
       "</table>\n",
       "</div>"
      ],
      "text/plain": [
       "             Date/Time  Temp (C)  Dew Point Temp (C)  Rel Hum (%)  \\\n",
       "0  2012-01-01 00:00:00      -1.8                -3.9           86   \n",
       "1  2012-01-01 01:00:00      -1.8                -3.7           87   \n",
       "2  2012-01-01 02:00:00      -1.8                -3.4           89   \n",
       "3  2012-01-01 03:00:00      -1.5                -3.2           88   \n",
       "4  2012-01-01 04:00:00      -1.5                -3.3           88   \n",
       "\n",
       "   Wind Spd (km/h)  Visibility (km)  Stn Press (kPa)               Weather  \n",
       "0                4              8.0           101.24                   Fog  \n",
       "1                4              8.0           101.24                   Fog  \n",
       "2                7              4.0           101.26  Freezing Drizzle,Fog  \n",
       "3                6              4.0           101.27  Freezing Drizzle,Fog  \n",
       "4                7              4.8           101.23                   Fog  "
      ]
     },
     "execution_count": 4,
     "metadata": {},
     "output_type": "execute_result"
    }
   ],
   "source": [
    "df.head()"
   ]
  },
  {
   "cell_type": "code",
   "execution_count": 5,
   "metadata": {},
   "outputs": [
    {
     "data": {
      "text/html": [
       "<div>\n",
       "<style scoped>\n",
       "    .dataframe tbody tr th:only-of-type {\n",
       "        vertical-align: middle;\n",
       "    }\n",
       "\n",
       "    .dataframe tbody tr th {\n",
       "        vertical-align: top;\n",
       "    }\n",
       "\n",
       "    .dataframe thead th {\n",
       "        text-align: right;\n",
       "    }\n",
       "</style>\n",
       "<table border=\"1\" class=\"dataframe\">\n",
       "  <thead>\n",
       "    <tr style=\"text-align: right;\">\n",
       "      <th></th>\n",
       "      <th>Date/Time</th>\n",
       "      <th>Temp (C)</th>\n",
       "      <th>Dew Point Temp (C)</th>\n",
       "      <th>Rel Hum (%)</th>\n",
       "      <th>Wind Spd (km/h)</th>\n",
       "      <th>Visibility (km)</th>\n",
       "      <th>Stn Press (kPa)</th>\n",
       "      <th>Weather</th>\n",
       "    </tr>\n",
       "  </thead>\n",
       "  <tbody>\n",
       "    <tr>\n",
       "      <th>8779</th>\n",
       "      <td>2012-12-31 19:00:00</td>\n",
       "      <td>0.1</td>\n",
       "      <td>-2.7</td>\n",
       "      <td>81</td>\n",
       "      <td>30</td>\n",
       "      <td>9.7</td>\n",
       "      <td>100.13</td>\n",
       "      <td>Snow</td>\n",
       "    </tr>\n",
       "    <tr>\n",
       "      <th>8780</th>\n",
       "      <td>2012-12-31 20:00:00</td>\n",
       "      <td>0.2</td>\n",
       "      <td>-2.4</td>\n",
       "      <td>83</td>\n",
       "      <td>24</td>\n",
       "      <td>9.7</td>\n",
       "      <td>100.03</td>\n",
       "      <td>Snow</td>\n",
       "    </tr>\n",
       "    <tr>\n",
       "      <th>8781</th>\n",
       "      <td>2012-12-31 21:00:00</td>\n",
       "      <td>-0.5</td>\n",
       "      <td>-1.5</td>\n",
       "      <td>93</td>\n",
       "      <td>28</td>\n",
       "      <td>4.8</td>\n",
       "      <td>99.95</td>\n",
       "      <td>Snow</td>\n",
       "    </tr>\n",
       "    <tr>\n",
       "      <th>8782</th>\n",
       "      <td>2012-12-31 22:00:00</td>\n",
       "      <td>-0.2</td>\n",
       "      <td>-1.8</td>\n",
       "      <td>89</td>\n",
       "      <td>28</td>\n",
       "      <td>9.7</td>\n",
       "      <td>99.91</td>\n",
       "      <td>Snow</td>\n",
       "    </tr>\n",
       "    <tr>\n",
       "      <th>8783</th>\n",
       "      <td>2012-12-31 23:00:00</td>\n",
       "      <td>0.0</td>\n",
       "      <td>-2.1</td>\n",
       "      <td>86</td>\n",
       "      <td>30</td>\n",
       "      <td>11.3</td>\n",
       "      <td>99.89</td>\n",
       "      <td>Snow</td>\n",
       "    </tr>\n",
       "  </tbody>\n",
       "</table>\n",
       "</div>"
      ],
      "text/plain": [
       "                Date/Time  Temp (C)  Dew Point Temp (C)  Rel Hum (%)  \\\n",
       "8779  2012-12-31 19:00:00       0.1                -2.7           81   \n",
       "8780  2012-12-31 20:00:00       0.2                -2.4           83   \n",
       "8781  2012-12-31 21:00:00      -0.5                -1.5           93   \n",
       "8782  2012-12-31 22:00:00      -0.2                -1.8           89   \n",
       "8783  2012-12-31 23:00:00       0.0                -2.1           86   \n",
       "\n",
       "      Wind Spd (km/h)  Visibility (km)  Stn Press (kPa) Weather  \n",
       "8779               30              9.7           100.13    Snow  \n",
       "8780               24              9.7           100.03    Snow  \n",
       "8781               28              4.8            99.95    Snow  \n",
       "8782               28              9.7            99.91    Snow  \n",
       "8783               30             11.3            99.89    Snow  "
      ]
     },
     "execution_count": 5,
     "metadata": {},
     "output_type": "execute_result"
    }
   ],
   "source": [
    "df.tail()"
   ]
  },
  {
   "cell_type": "code",
   "execution_count": 6,
   "metadata": {},
   "outputs": [
    {
     "data": {
      "text/html": [
       "<div>\n",
       "<style scoped>\n",
       "    .dataframe tbody tr th:only-of-type {\n",
       "        vertical-align: middle;\n",
       "    }\n",
       "\n",
       "    .dataframe tbody tr th {\n",
       "        vertical-align: top;\n",
       "    }\n",
       "\n",
       "    .dataframe thead th {\n",
       "        text-align: right;\n",
       "    }\n",
       "</style>\n",
       "<table border=\"1\" class=\"dataframe\">\n",
       "  <thead>\n",
       "    <tr style=\"text-align: right;\">\n",
       "      <th></th>\n",
       "      <th>Date/Time</th>\n",
       "      <th>Temp (C)</th>\n",
       "      <th>Dew Point Temp (C)</th>\n",
       "      <th>Rel Hum (%)</th>\n",
       "      <th>Wind Spd (km/h)</th>\n",
       "      <th>Visibility (km)</th>\n",
       "      <th>Stn Press (kPa)</th>\n",
       "      <th>Weather</th>\n",
       "    </tr>\n",
       "  </thead>\n",
       "  <tbody>\n",
       "    <tr>\n",
       "      <th>1232</th>\n",
       "      <td>2012-02-21 08:00:00</td>\n",
       "      <td>-5.0</td>\n",
       "      <td>-8.2</td>\n",
       "      <td>78</td>\n",
       "      <td>7</td>\n",
       "      <td>48.3</td>\n",
       "      <td>101.98</td>\n",
       "      <td>Mostly Cloudy</td>\n",
       "    </tr>\n",
       "    <tr>\n",
       "      <th>2825</th>\n",
       "      <td>2012-04-27 17:00:00</td>\n",
       "      <td>1.7</td>\n",
       "      <td>-6.3</td>\n",
       "      <td>55</td>\n",
       "      <td>33</td>\n",
       "      <td>24.1</td>\n",
       "      <td>101.09</td>\n",
       "      <td>Cloudy</td>\n",
       "    </tr>\n",
       "    <tr>\n",
       "      <th>5072</th>\n",
       "      <td>2012-07-30 08:00:00</td>\n",
       "      <td>22.4</td>\n",
       "      <td>16.7</td>\n",
       "      <td>70</td>\n",
       "      <td>7</td>\n",
       "      <td>48.3</td>\n",
       "      <td>101.31</td>\n",
       "      <td>Clear</td>\n",
       "    </tr>\n",
       "    <tr>\n",
       "      <th>6040</th>\n",
       "      <td>2012-09-08 16:00:00</td>\n",
       "      <td>20.4</td>\n",
       "      <td>18.2</td>\n",
       "      <td>87</td>\n",
       "      <td>39</td>\n",
       "      <td>24.1</td>\n",
       "      <td>99.09</td>\n",
       "      <td>Rain Showers</td>\n",
       "    </tr>\n",
       "    <tr>\n",
       "      <th>2990</th>\n",
       "      <td>2012-05-04 14:00:00</td>\n",
       "      <td>16.0</td>\n",
       "      <td>12.5</td>\n",
       "      <td>80</td>\n",
       "      <td>9</td>\n",
       "      <td>24.1</td>\n",
       "      <td>100.73</td>\n",
       "      <td>Cloudy</td>\n",
       "    </tr>\n",
       "  </tbody>\n",
       "</table>\n",
       "</div>"
      ],
      "text/plain": [
       "                Date/Time  Temp (C)  Dew Point Temp (C)  Rel Hum (%)  \\\n",
       "1232  2012-02-21 08:00:00      -5.0                -8.2           78   \n",
       "2825  2012-04-27 17:00:00       1.7                -6.3           55   \n",
       "5072  2012-07-30 08:00:00      22.4                16.7           70   \n",
       "6040  2012-09-08 16:00:00      20.4                18.2           87   \n",
       "2990  2012-05-04 14:00:00      16.0                12.5           80   \n",
       "\n",
       "      Wind Spd (km/h)  Visibility (km)  Stn Press (kPa)        Weather  \n",
       "1232                7             48.3           101.98  Mostly Cloudy  \n",
       "2825               33             24.1           101.09         Cloudy  \n",
       "5072                7             48.3           101.31          Clear  \n",
       "6040               39             24.1            99.09   Rain Showers  \n",
       "2990                9             24.1           100.73         Cloudy  "
      ]
     },
     "execution_count": 6,
     "metadata": {},
     "output_type": "execute_result"
    }
   ],
   "source": [
    "df.sample(5)"
   ]
  },
  {
   "cell_type": "markdown",
   "metadata": {},
   "source": [
    "3. This fucntion displays all the column names in a list. I also created a new variable called orig_columns so I can keep a copy of the original column names. "
   ]
  },
  {
   "cell_type": "code",
   "execution_count": 7,
   "metadata": {},
   "outputs": [
    {
     "name": "stdout",
     "output_type": "stream",
     "text": [
      "['Date/Time', 'Temp (C)', 'Dew Point Temp (C)', 'Rel Hum (%)', 'Wind Spd (km/h)', 'Visibility (km)', 'Stn Press (kPa)', 'Weather']\n"
     ]
    }
   ],
   "source": [
    "orig_columns=list(df.columns)\n",
    "print(orig_columns)"
   ]
  },
  {
   "cell_type": "markdown",
   "metadata": {},
   "source": [
    "4. the pandas function \"rename\" allows you to rename each column by typing the original name, then a colon, then the new name. By saying 'inplace=True,' the function replaces the original dataset with the new column names."
   ]
  },
  {
   "cell_type": "code",
   "execution_count": 8,
   "metadata": {},
   "outputs": [],
   "source": [
    "df.rename(columns={\n",
    "  'Date/Time':'date_time',\n",
    "  'Temp (C)':'temp_c',\n",
    "  'Dew Point Temp (C)':'dew_point',\n",
    "  'Rel Hum (%)':'relative_humidity',\n",
    "  'Wind Spd (km/h)':'wind_speed',\n",
    "  'Visibility (km)':'visibility',\n",
    "  'Stn Press (kPa)':'pressure',\n",
    "  'Weather':'weather'  \n",
    "}, inplace= True)"
   ]
  },
  {
   "cell_type": "code",
   "execution_count": 9,
   "metadata": {},
   "outputs": [
    {
     "data": {
      "text/plain": [
       "Index(['date_time', 'temp_c', 'dew_point', 'relative_humidity', 'wind_speed',\n",
       "       'visibility', 'pressure', 'weather'],\n",
       "      dtype='object')"
      ]
     },
     "execution_count": 9,
     "metadata": {},
     "output_type": "execute_result"
    }
   ],
   "source": [
    "df.columns"
   ]
  },
  {
   "cell_type": "markdown",
   "metadata": {},
   "source": [
    "5. Pandas allows you to easily get some summary statistics with the built-in function \"describe\""
   ]
  },
  {
   "cell_type": "code",
   "execution_count": 9,
   "metadata": {},
   "outputs": [
    {
     "data": {
      "text/html": [
       "<div>\n",
       "<style scoped>\n",
       "    .dataframe tbody tr th:only-of-type {\n",
       "        vertical-align: middle;\n",
       "    }\n",
       "\n",
       "    .dataframe tbody tr th {\n",
       "        vertical-align: top;\n",
       "    }\n",
       "\n",
       "    .dataframe thead th {\n",
       "        text-align: right;\n",
       "    }\n",
       "</style>\n",
       "<table border=\"1\" class=\"dataframe\">\n",
       "  <thead>\n",
       "    <tr style=\"text-align: right;\">\n",
       "      <th></th>\n",
       "      <th>temp_c</th>\n",
       "      <th>dew_point</th>\n",
       "      <th>relative_humidity</th>\n",
       "      <th>wind_speed</th>\n",
       "      <th>visibility</th>\n",
       "      <th>pressure</th>\n",
       "    </tr>\n",
       "  </thead>\n",
       "  <tbody>\n",
       "    <tr>\n",
       "      <th>count</th>\n",
       "      <td>8784.000000</td>\n",
       "      <td>8784.000000</td>\n",
       "      <td>8784.000000</td>\n",
       "      <td>8784.000000</td>\n",
       "      <td>8784.000000</td>\n",
       "      <td>8784.000000</td>\n",
       "    </tr>\n",
       "    <tr>\n",
       "      <th>mean</th>\n",
       "      <td>8.798144</td>\n",
       "      <td>2.555294</td>\n",
       "      <td>67.431694</td>\n",
       "      <td>14.945469</td>\n",
       "      <td>27.664447</td>\n",
       "      <td>101.051623</td>\n",
       "    </tr>\n",
       "    <tr>\n",
       "      <th>std</th>\n",
       "      <td>11.687883</td>\n",
       "      <td>10.883072</td>\n",
       "      <td>16.918881</td>\n",
       "      <td>8.688696</td>\n",
       "      <td>12.622688</td>\n",
       "      <td>0.844005</td>\n",
       "    </tr>\n",
       "    <tr>\n",
       "      <th>min</th>\n",
       "      <td>-23.300000</td>\n",
       "      <td>-28.500000</td>\n",
       "      <td>18.000000</td>\n",
       "      <td>0.000000</td>\n",
       "      <td>0.200000</td>\n",
       "      <td>97.520000</td>\n",
       "    </tr>\n",
       "    <tr>\n",
       "      <th>25%</th>\n",
       "      <td>0.100000</td>\n",
       "      <td>-5.900000</td>\n",
       "      <td>56.000000</td>\n",
       "      <td>9.000000</td>\n",
       "      <td>24.100000</td>\n",
       "      <td>100.560000</td>\n",
       "    </tr>\n",
       "    <tr>\n",
       "      <th>50%</th>\n",
       "      <td>9.300000</td>\n",
       "      <td>3.300000</td>\n",
       "      <td>68.000000</td>\n",
       "      <td>13.000000</td>\n",
       "      <td>25.000000</td>\n",
       "      <td>101.070000</td>\n",
       "    </tr>\n",
       "    <tr>\n",
       "      <th>75%</th>\n",
       "      <td>18.800000</td>\n",
       "      <td>11.800000</td>\n",
       "      <td>81.000000</td>\n",
       "      <td>20.000000</td>\n",
       "      <td>25.000000</td>\n",
       "      <td>101.590000</td>\n",
       "    </tr>\n",
       "    <tr>\n",
       "      <th>max</th>\n",
       "      <td>33.000000</td>\n",
       "      <td>24.400000</td>\n",
       "      <td>100.000000</td>\n",
       "      <td>83.000000</td>\n",
       "      <td>48.300000</td>\n",
       "      <td>103.650000</td>\n",
       "    </tr>\n",
       "  </tbody>\n",
       "</table>\n",
       "</div>"
      ],
      "text/plain": [
       "            temp_c    dew_point  relative_humidity   wind_speed   visibility  \\\n",
       "count  8784.000000  8784.000000        8784.000000  8784.000000  8784.000000   \n",
       "mean      8.798144     2.555294          67.431694    14.945469    27.664447   \n",
       "std      11.687883    10.883072          16.918881     8.688696    12.622688   \n",
       "min     -23.300000   -28.500000          18.000000     0.000000     0.200000   \n",
       "25%       0.100000    -5.900000          56.000000     9.000000    24.100000   \n",
       "50%       9.300000     3.300000          68.000000    13.000000    25.000000   \n",
       "75%      18.800000    11.800000          81.000000    20.000000    25.000000   \n",
       "max      33.000000    24.400000         100.000000    83.000000    48.300000   \n",
       "\n",
       "          pressure  \n",
       "count  8784.000000  \n",
       "mean    101.051623  \n",
       "std       0.844005  \n",
       "min      97.520000  \n",
       "25%     100.560000  \n",
       "50%     101.070000  \n",
       "75%     101.590000  \n",
       "max     103.650000  "
      ]
     },
     "execution_count": 9,
     "metadata": {},
     "output_type": "execute_result"
    }
   ],
   "source": [
    "df.describe()"
   ]
  },
  {
   "cell_type": "markdown",
   "metadata": {},
   "source": [
    "6. The next cell creates a new column with the name \"temp_f.\" On the right side of the equals sign, there is a formula that converts the temperature in Celsius to Fahrenheit and puts the converted temp in the new column."
   ]
  },
  {
   "cell_type": "code",
   "execution_count": 10,
   "metadata": {},
   "outputs": [],
   "source": [
    "df['temp_f']=(df.temp_c * 9/5) + 32"
   ]
  },
  {
   "cell_type": "markdown",
   "metadata": {},
   "source": [
    "7. By specifying the pandas DataFrame and typin gout each column name, you can determine the order of columns in your DataFrame. Here, I arranged teh columns so date_time is first, followed by temp_f then temp_c and the rest on the order they were in. "
   ]
  },
  {
   "cell_type": "code",
   "execution_count": 11,
   "metadata": {},
   "outputs": [],
   "source": [
    "df = pd.DataFrame(df, columns = ['date_time',\n",
    "        'temp_f',\n",
    "        'temp_c',\n",
    "         'dew_point',\n",
    "         'relative_humidity',\n",
    "         'wind_speed',\n",
    "         'visibility',\n",
    "         'pressure',\n",
    "         'weather'\n",
    "        ])"
   ]
  },
  {
   "cell_type": "code",
   "execution_count": 196,
   "metadata": {},
   "outputs": [],
   "source": [
    "#df"
   ]
  },
  {
   "cell_type": "markdown",
   "metadata": {},
   "source": [
    "8. Pandas has a built-in function \"dtypes\" that will return each column along with the data type for each."
   ]
  },
  {
   "cell_type": "code",
   "execution_count": 12,
   "metadata": {},
   "outputs": [
    {
     "data": {
      "text/plain": [
       "date_time             object\n",
       "temp_f               float64\n",
       "temp_c               float64\n",
       "dew_point            float64\n",
       "relative_humidity      int64\n",
       "wind_speed             int64\n",
       "visibility           float64\n",
       "pressure             float64\n",
       "weather               object\n",
       "dtype: object"
      ]
     },
     "execution_count": 12,
     "metadata": {},
     "output_type": "execute_result"
    }
   ],
   "source": [
    "df.dtypes"
   ]
  },
  {
   "cell_type": "markdown",
   "metadata": {},
   "source": [
    "9. The function in Pandas called \"to_datetime()\" converts a column that includes dates (which was formerly 'object' type) to the datetime format. "
   ]
  },
  {
   "cell_type": "code",
   "execution_count": 13,
   "metadata": {},
   "outputs": [],
   "source": [
    "df.date_time = pd.to_datetime(df.date_time)"
   ]
  },
  {
   "cell_type": "code",
   "execution_count": 14,
   "metadata": {},
   "outputs": [
    {
     "data": {
      "text/plain": [
       "date_time            datetime64[ns]\n",
       "temp_f                      float64\n",
       "temp_c                      float64\n",
       "dew_point                   float64\n",
       "relative_humidity             int64\n",
       "wind_speed                    int64\n",
       "visibility                  float64\n",
       "pressure                    float64\n",
       "weather                      object\n",
       "dtype: object"
      ]
     },
     "execution_count": 14,
     "metadata": {},
     "output_type": "execute_result"
    }
   ],
   "source": [
    "df.dtypes"
   ]
  },
  {
   "cell_type": "markdown",
   "metadata": {},
   "source": [
    "10. I grouped the dates by month and created a new DataFrame with the average temperature of each month in Fahrenheit."
   ]
  },
  {
   "cell_type": "code",
   "execution_count": 15,
   "metadata": {},
   "outputs": [],
   "source": [
    "monthly_avg = df.temp_f.groupby(df['date_time'].dt.month).mean()\n",
    "monthly_avg = pd.DataFrame(monthly_avg)"
   ]
  },
  {
   "cell_type": "markdown",
   "metadata": {},
   "source": [
    "11. I created a new column in the dataframe I just created. Using the indexes from above, I made a new column called \"Month.\""
   ]
  },
  {
   "cell_type": "code",
   "execution_count": 16,
   "metadata": {},
   "outputs": [],
   "source": [
    "monthly_avg['Month'] = monthly_avg.index\n"
   ]
  },
  {
   "cell_type": "code",
   "execution_count": 17,
   "metadata": {},
   "outputs": [],
   "source": [
    "#monthly_avg"
   ]
  },
  {
   "cell_type": "markdown",
   "metadata": {},
   "source": [
    "12. Here I rearranged the columns (just switching Month and temp_f) like I did in part 7 above."
   ]
  },
  {
   "cell_type": "code",
   "execution_count": 17,
   "metadata": {},
   "outputs": [],
   "source": [
    "monthly_avg = pd.DataFrame(monthly_avg, columns = ['Month','temp_f'])"
   ]
  },
  {
   "cell_type": "code",
   "execution_count": 397,
   "metadata": {},
   "outputs": [],
   "source": [
    "#monthly_avg"
   ]
  },
  {
   "cell_type": "markdown",
   "metadata": {},
   "source": [
    "13. The next code is to rename the index column. Since we want it to have no name appear above the column, I set the name of the index column as empty quotes."
   ]
  },
  {
   "cell_type": "code",
   "execution_count": 18,
   "metadata": {},
   "outputs": [],
   "source": [
    "monthly_avg.index.rename = ('')"
   ]
  },
  {
   "cell_type": "code",
   "execution_count": 19,
   "metadata": {},
   "outputs": [
    {
     "data": {
      "text/html": [
       "<div>\n",
       "<style scoped>\n",
       "    .dataframe tbody tr th:only-of-type {\n",
       "        vertical-align: middle;\n",
       "    }\n",
       "\n",
       "    .dataframe tbody tr th {\n",
       "        vertical-align: top;\n",
       "    }\n",
       "\n",
       "    .dataframe thead th {\n",
       "        text-align: right;\n",
       "    }\n",
       "</style>\n",
       "<table border=\"1\" class=\"dataframe\">\n",
       "  <thead>\n",
       "    <tr style=\"text-align: right;\">\n",
       "      <th></th>\n",
       "      <th>Month</th>\n",
       "      <th>temp_f</th>\n",
       "    </tr>\n",
       "    <tr>\n",
       "      <th>date_time</th>\n",
       "      <th></th>\n",
       "      <th></th>\n",
       "    </tr>\n",
       "  </thead>\n",
       "  <tbody>\n",
       "    <tr>\n",
       "      <th>1</th>\n",
       "      <td>1</td>\n",
       "      <td>18.731290</td>\n",
       "    </tr>\n",
       "    <tr>\n",
       "      <th>2</th>\n",
       "      <td>2</td>\n",
       "      <td>24.395000</td>\n",
       "    </tr>\n",
       "    <tr>\n",
       "      <th>3</th>\n",
       "      <td>3</td>\n",
       "      <td>37.618226</td>\n",
       "    </tr>\n",
       "    <tr>\n",
       "      <th>4</th>\n",
       "      <td>4</td>\n",
       "      <td>44.616750</td>\n",
       "    </tr>\n",
       "    <tr>\n",
       "      <th>5</th>\n",
       "      <td>5</td>\n",
       "      <td>61.227984</td>\n",
       "    </tr>\n",
       "    <tr>\n",
       "      <th>6</th>\n",
       "      <td>6</td>\n",
       "      <td>68.241250</td>\n",
       "    </tr>\n",
       "    <tr>\n",
       "      <th>7</th>\n",
       "      <td>7</td>\n",
       "      <td>73.022097</td>\n",
       "    </tr>\n",
       "    <tr>\n",
       "      <th>8</th>\n",
       "      <td>8</td>\n",
       "      <td>72.102742</td>\n",
       "    </tr>\n",
       "    <tr>\n",
       "      <th>9</th>\n",
       "      <td>9</td>\n",
       "      <td>61.672000</td>\n",
       "    </tr>\n",
       "    <tr>\n",
       "      <th>10</th>\n",
       "      <td>10</td>\n",
       "      <td>51.718952</td>\n",
       "    </tr>\n",
       "    <tr>\n",
       "      <th>11</th>\n",
       "      <td>11</td>\n",
       "      <td>33.676500</td>\n",
       "    </tr>\n",
       "    <tr>\n",
       "      <th>12</th>\n",
       "      <td>12</td>\n",
       "      <td>26.048629</td>\n",
       "    </tr>\n",
       "  </tbody>\n",
       "</table>\n",
       "</div>"
      ],
      "text/plain": [
       "           Month     temp_f\n",
       "date_time                  \n",
       "1              1  18.731290\n",
       "2              2  24.395000\n",
       "3              3  37.618226\n",
       "4              4  44.616750\n",
       "5              5  61.227984\n",
       "6              6  68.241250\n",
       "7              7  73.022097\n",
       "8              8  72.102742\n",
       "9              9  61.672000\n",
       "10            10  51.718952\n",
       "11            11  33.676500\n",
       "12            12  26.048629"
      ]
     },
     "execution_count": 19,
     "metadata": {},
     "output_type": "execute_result"
    }
   ],
   "source": [
    "monthly_avg"
   ]
  },
  {
   "cell_type": "markdown",
   "metadata": {},
   "source": [
    "14. I created a dictionary with each number and the corresponding month as the values. The function get_month returns the month name. I then mapped the months to the column in the dataframe."
   ]
  },
  {
   "cell_type": "code",
   "execution_count": 20,
   "metadata": {},
   "outputs": [],
   "source": [
    "def get_month(number):\n",
    "\n",
    "    monthnames = {1:'January',\n",
    "                  2:'February',\n",
    "                  3:'March',\n",
    "                  4:'April',\n",
    "                  5:'May',\n",
    "                  6:'June',\n",
    "             7:'July',\n",
    "             8:'August',\n",
    "             9:'September',\n",
    "             10:'October',\n",
    "             11:'November',\n",
    "             12:'December'}\n",
    "    return monthnames[number]"
   ]
  },
  {
   "cell_type": "code",
   "execution_count": 21,
   "metadata": {},
   "outputs": [],
   "source": [
    "monthly_avg['Month'] = list(map(lambda month: get_month(month), monthly_avg['Month']))"
   ]
  },
  {
   "cell_type": "code",
   "execution_count": 22,
   "metadata": {},
   "outputs": [
    {
     "data": {
      "text/html": [
       "<div>\n",
       "<style scoped>\n",
       "    .dataframe tbody tr th:only-of-type {\n",
       "        vertical-align: middle;\n",
       "    }\n",
       "\n",
       "    .dataframe tbody tr th {\n",
       "        vertical-align: top;\n",
       "    }\n",
       "\n",
       "    .dataframe thead th {\n",
       "        text-align: right;\n",
       "    }\n",
       "</style>\n",
       "<table border=\"1\" class=\"dataframe\">\n",
       "  <thead>\n",
       "    <tr style=\"text-align: right;\">\n",
       "      <th></th>\n",
       "      <th>Month</th>\n",
       "      <th>temp_f</th>\n",
       "    </tr>\n",
       "    <tr>\n",
       "      <th>date_time</th>\n",
       "      <th></th>\n",
       "      <th></th>\n",
       "    </tr>\n",
       "  </thead>\n",
       "  <tbody>\n",
       "    <tr>\n",
       "      <th>1</th>\n",
       "      <td>January</td>\n",
       "      <td>18.731290</td>\n",
       "    </tr>\n",
       "    <tr>\n",
       "      <th>2</th>\n",
       "      <td>February</td>\n",
       "      <td>24.395000</td>\n",
       "    </tr>\n",
       "    <tr>\n",
       "      <th>3</th>\n",
       "      <td>March</td>\n",
       "      <td>37.618226</td>\n",
       "    </tr>\n",
       "    <tr>\n",
       "      <th>4</th>\n",
       "      <td>April</td>\n",
       "      <td>44.616750</td>\n",
       "    </tr>\n",
       "    <tr>\n",
       "      <th>5</th>\n",
       "      <td>May</td>\n",
       "      <td>61.227984</td>\n",
       "    </tr>\n",
       "    <tr>\n",
       "      <th>6</th>\n",
       "      <td>June</td>\n",
       "      <td>68.241250</td>\n",
       "    </tr>\n",
       "    <tr>\n",
       "      <th>7</th>\n",
       "      <td>July</td>\n",
       "      <td>73.022097</td>\n",
       "    </tr>\n",
       "    <tr>\n",
       "      <th>8</th>\n",
       "      <td>August</td>\n",
       "      <td>72.102742</td>\n",
       "    </tr>\n",
       "    <tr>\n",
       "      <th>9</th>\n",
       "      <td>September</td>\n",
       "      <td>61.672000</td>\n",
       "    </tr>\n",
       "    <tr>\n",
       "      <th>10</th>\n",
       "      <td>October</td>\n",
       "      <td>51.718952</td>\n",
       "    </tr>\n",
       "    <tr>\n",
       "      <th>11</th>\n",
       "      <td>November</td>\n",
       "      <td>33.676500</td>\n",
       "    </tr>\n",
       "    <tr>\n",
       "      <th>12</th>\n",
       "      <td>December</td>\n",
       "      <td>26.048629</td>\n",
       "    </tr>\n",
       "  </tbody>\n",
       "</table>\n",
       "</div>"
      ],
      "text/plain": [
       "               Month     temp_f\n",
       "date_time                      \n",
       "1            January  18.731290\n",
       "2           February  24.395000\n",
       "3              March  37.618226\n",
       "4              April  44.616750\n",
       "5                May  61.227984\n",
       "6               June  68.241250\n",
       "7               July  73.022097\n",
       "8             August  72.102742\n",
       "9          September  61.672000\n",
       "10           October  51.718952\n",
       "11          November  33.676500\n",
       "12          December  26.048629"
      ]
     },
     "execution_count": 22,
     "metadata": {},
     "output_type": "execute_result"
    }
   ],
   "source": [
    "monthly_avg"
   ]
  },
  {
   "cell_type": "code",
   "execution_count": 24,
   "metadata": {},
   "outputs": [
    {
     "data": {
      "text/plain": [
       "'February'"
      ]
     },
     "execution_count": 24,
     "metadata": {},
     "output_type": "execute_result"
    }
   ],
   "source": [
    "get_month(2)"
   ]
  },
  {
   "cell_type": "markdown",
   "metadata": {},
   "source": [
    "15. Similar to getting the average temperature by month, you can also get the average temperature for each hour"
   ]
  },
  {
   "cell_type": "code",
   "execution_count": 23,
   "metadata": {},
   "outputs": [],
   "source": [
    "hourly_avg = df.temp_f.groupby(df['date_time'].dt.time).mean()"
   ]
  },
  {
   "cell_type": "markdown",
   "metadata": {},
   "source": [
    "16. To rename the index for the hourly average series, you can call the index name and set it equal to your new name, 'Hour.'"
   ]
  },
  {
   "cell_type": "code",
   "execution_count": 24,
   "metadata": {},
   "outputs": [],
   "source": [
    "hourly_avg.index.names = ['Hour']"
   ]
  },
  {
   "cell_type": "code",
   "execution_count": 25,
   "metadata": {},
   "outputs": [],
   "source": [
    "#hourly_avg.index"
   ]
  },
  {
   "cell_type": "markdown",
   "metadata": {},
   "source": [
    "17. I created a dictionary with every corresponding time to the times in '00:00:00' format. Then I created a function that will return the correct time. I then mapped the new times to the column in the dataframe with a lamba expression."
   ]
  },
  {
   "cell_type": "code",
   "execution_count": 26,
   "metadata": {},
   "outputs": [],
   "source": [
    "def get_time(number):\n",
    "\n",
    "    times = {'00:00:00':'12:00AM',\n",
    "         '01:00:00':'1:00 AM',\n",
    "         '02:00:00':'2:00 AM',\n",
    "         '03:00:00':'3:00 AM',\n",
    "         '04:00:00':'4:00 AM',\n",
    "         '05:00:00':'5:00 AM',\n",
    "         '06:00:00':'6:00 AM',\n",
    "         '07:00:00':'7:00 AM',\n",
    "         '08:00:00':'8:00 AM',\n",
    "         '09:00:00':'9:00 AM',\n",
    "         '10:00:00':'10:00 AM',\n",
    "         '11:00:00':'11:00 AM',\n",
    "         '12:00:00':'12:00 PM',\n",
    "        '13:00:00':'1:00 PM',\n",
    "        '14:00:00':'2:00 PM',\n",
    "        '15:00:00':'3:00 PM',\n",
    "        '16:00:00':'4:00 PM',\n",
    "        '17:00:00':'5:00 PM',\n",
    "        '18:00:00':'6:00 PM',\n",
    "        '19:00:00':'7:00 PM',\n",
    "        '20:00:00':'8:00 PM',\n",
    "        '21:00:00':'9:00 PM',\n",
    "        '22:00:00':'10:00 PM',\n",
    "        '23:00:00':'11:00 PM'}\n",
    "\n",
    "    return times[number]\n",
    "    "
   ]
  },
  {
   "cell_type": "code",
   "execution_count": 27,
   "metadata": {},
   "outputs": [],
   "source": [
    "hourly_avg.index = list(map(lambda time: get_time(str(time)), hourly_avg.index))"
   ]
  },
  {
   "cell_type": "code",
   "execution_count": 28,
   "metadata": {},
   "outputs": [
    {
     "data": {
      "text/plain": [
       "12:00AM     45.623443\n",
       "1:00 AM     44.762787\n",
       "2:00 AM     43.980820\n",
       "3:00 AM     43.325246\n",
       "4:00 AM     42.744426\n",
       "5:00 AM     42.291967\n",
       "6:00 AM     42.859508\n",
       "7:00 AM     43.831311\n",
       "8:00 AM     45.280656\n",
       "9:00 AM     46.987213\n",
       "10:00 AM    48.699672\n",
       "11:00 AM    50.193770\n",
       "12:00 PM    51.541803\n",
       "1:00 PM     52.508689\n",
       "2:00 PM     53.196721\n",
       "3:00 PM     53.391475\n",
       "4:00 PM     53.178033\n",
       "5:00 PM     52.297705\n",
       "6:00 PM     51.181311\n",
       "7:00 PM     50.041311\n",
       "8:00 PM     48.848197\n",
       "9:00 PM     47.851803\n",
       "10:00 PM    47.064918\n",
       "11:00 PM    46.397049\n",
       "Name: temp_f, dtype: float64"
      ]
     },
     "execution_count": 28,
     "metadata": {},
     "output_type": "execute_result"
    }
   ],
   "source": [
    "hourly_avg"
   ]
  },
  {
   "cell_type": "markdown",
   "metadata": {},
   "source": [
    "18. You can use pandas's function groupby to group each weather pattern together and then the count() function to get the count for each weather type. Note: if there are multiple weather types for one day, this function will not separate them"
   ]
  },
  {
   "cell_type": "code",
   "execution_count": 29,
   "metadata": {},
   "outputs": [
    {
     "name": "stdout",
     "output_type": "stream",
     "text": [
      "weather\n",
      "Clear                                      1326\n",
      "Cloudy                                     1728\n",
      "Drizzle                                      41\n",
      "Drizzle,Fog                                  80\n",
      "Drizzle,Ice Pellets,Fog                       1\n",
      "Drizzle,Snow                                  2\n",
      "Drizzle,Snow,Fog                             15\n",
      "Fog                                         150\n",
      "Freezing Drizzle                              7\n",
      "Freezing Drizzle,Fog                          6\n",
      "Freezing Drizzle,Haze                         3\n",
      "Freezing Drizzle,Snow                        11\n",
      "Freezing Fog                                  4\n",
      "Freezing Rain                                14\n",
      "Freezing Rain,Fog                             4\n",
      "Freezing Rain,Haze                            2\n",
      "Freezing Rain,Ice Pellets,Fog                 1\n",
      "Freezing Rain,Snow Grains                     1\n",
      "Haze                                         16\n",
      "Mainly Clear                               2106\n",
      "Moderate Rain,Fog                             1\n",
      "Moderate Snow                                 4\n",
      "Moderate Snow,Blowing Snow                    2\n",
      "Mostly Cloudy                              2069\n",
      "Rain                                        306\n",
      "Rain Showers                                188\n",
      "Rain Showers,Fog                              1\n",
      "Rain Showers,Snow Showers                     2\n",
      "Rain,Fog                                    116\n",
      "Rain,Haze                                     3\n",
      "Rain,Ice Pellets                              1\n",
      "Rain,Snow                                    18\n",
      "Rain,Snow Grains                              1\n",
      "Rain,Snow,Fog                                 1\n",
      "Rain,Snow,Ice Pellets                         4\n",
      "Snow                                        390\n",
      "Snow Pellets                                  1\n",
      "Snow Showers                                 60\n",
      "Snow Showers,Fog                              4\n",
      "Snow,Blowing Snow                            19\n",
      "Snow,Fog                                     37\n",
      "Snow,Haze                                     5\n",
      "Snow,Ice Pellets                              6\n",
      "Thunderstorms                                 2\n",
      "Thunderstorms,Heavy Rain Showers              1\n",
      "Thunderstorms,Moderate Rain Showers,Fog       1\n",
      "Thunderstorms,Rain                            3\n",
      "Thunderstorms,Rain Showers                   16\n",
      "Thunderstorms,Rain Showers,Fog                3\n",
      "Thunderstorms,Rain,Fog                        1\n",
      "Name: weather, dtype: int64\n"
     ]
    }
   ],
   "source": [
    "weather = df['weather'].groupby(df['weather']).count()\n",
    "print(weather)"
   ]
  },
  {
   "cell_type": "markdown",
   "metadata": {},
   "source": [
    "19. I separated the items that have multiple weather patterns in them using the string function, split(). Then, you can make a set with these items so it only shows the unique values, and then convert it back to a list. "
   ]
  },
  {
   "cell_type": "code",
   "execution_count": 31,
   "metadata": {},
   "outputs": [
    {
     "name": "stdout",
     "output_type": "stream",
     "text": [
      "['Freezing Rain', 'Snow Pellets', 'Freezing Drizzle', 'Rain Showers', 'Heavy Rain Showers', 'Ice Pellets', 'Haze', 'Moderate Snow', 'Moderate Rain', 'Thunderstorms', 'Mainly Clear', 'Drizzle', 'Mostly Cloudy', 'Freezing Fog', 'Cloudy', 'Fog', 'Snow Grains', 'Snow Showers', 'Blowing Snow', 'Snow', 'Clear', 'Rain', 'Moderate Rain Showers']\n"
     ]
    }
   ],
   "source": [
    "weatherlist = list(weather.index)\n",
    "weatherlist2 = list()\n",
    "\n",
    "for item in weatherlist:\n",
    "    weatherlist2 = weatherlist2 + item.split(',')\n",
    "\n",
    "weathers = set(weatherlist2)\n",
    "#print(weathers)\n",
    "\n",
    "weatherlist3 = list(weathers)\n",
    "print(weatherlist3)"
   ]
  },
  {
   "cell_type": "markdown",
   "metadata": {},
   "source": [
    "20. The sorted function automatically sorts strings in alphabetical order"
   ]
  },
  {
   "cell_type": "code",
   "execution_count": 32,
   "metadata": {},
   "outputs": [
    {
     "data": {
      "text/plain": [
       "['Blowing Snow',\n",
       " 'Clear',\n",
       " 'Cloudy',\n",
       " 'Drizzle',\n",
       " 'Fog',\n",
       " 'Freezing Drizzle',\n",
       " 'Freezing Fog',\n",
       " 'Freezing Rain',\n",
       " 'Haze',\n",
       " 'Heavy Rain Showers',\n",
       " 'Ice Pellets',\n",
       " 'Mainly Clear',\n",
       " 'Moderate Rain',\n",
       " 'Moderate Rain Showers',\n",
       " 'Moderate Snow',\n",
       " 'Mostly Cloudy',\n",
       " 'Rain',\n",
       " 'Rain Showers',\n",
       " 'Snow',\n",
       " 'Snow Grains',\n",
       " 'Snow Pellets',\n",
       " 'Snow Showers',\n",
       " 'Thunderstorms']"
      ]
     },
     "execution_count": 32,
     "metadata": {},
     "output_type": "execute_result"
    }
   ],
   "source": [
    "sorted(weatherlist3)"
   ]
  },
  {
   "cell_type": "markdown",
   "metadata": {},
   "source": [
    "21. I inserted the new temp_f column into the list of the original columns, then changed the dataframe to once again have the original column names"
   ]
  },
  {
   "cell_type": "code",
   "execution_count": 33,
   "metadata": {},
   "outputs": [],
   "source": [
    "orig_columns.insert(1, 'Temp (F)')"
   ]
  },
  {
   "cell_type": "code",
   "execution_count": 34,
   "metadata": {},
   "outputs": [],
   "source": [
    "df.columns = orig_columns"
   ]
  },
  {
   "cell_type": "code",
   "execution_count": 35,
   "metadata": {},
   "outputs": [
    {
     "data": {
      "text/plain": [
       "Index(['Date/Time', 'Temp (F)', 'Temp (C)', 'Dew Point Temp (C)',\n",
       "       'Rel Hum (%)', 'Wind Spd (km/h)', 'Visibility (km)', 'Stn Press (kPa)',\n",
       "       'Weather'],\n",
       "      dtype='object')"
      ]
     },
     "execution_count": 35,
     "metadata": {},
     "output_type": "execute_result"
    }
   ],
   "source": [
    "df.columns"
   ]
  },
  {
   "cell_type": "markdown",
   "metadata": {},
   "source": [
    "22. You can easily create a csv file to save your pandas dataframe work with the function to_csv. The index must equal False so that it does not include the indices in the csv file. It includes the headers unless otherwise stated."
   ]
  },
  {
   "cell_type": "code",
   "execution_count": 36,
   "metadata": {},
   "outputs": [],
   "source": [
    "df.to_csv('weather_2012_new.csv',index=False)"
   ]
  },
  {
   "cell_type": "markdown",
   "metadata": {},
   "source": [
    "23. To save the new dataframes created earlier, I used the same 'to_csv' function. Now there are new csv files in the same destination as this notebook called 'monthly_avg_2012.csv' and 'hourly_avg_2012.csv'"
   ]
  },
  {
   "cell_type": "code",
   "execution_count": 32,
   "metadata": {},
   "outputs": [],
   "source": [
    "monthly_avg.to_csv('monthly_avg_2012.csv',index = False)"
   ]
  },
  {
   "cell_type": "code",
   "execution_count": 37,
   "metadata": {},
   "outputs": [],
   "source": [
    "hourly_avg.to_csv('hourly_avg_2012.csv', index = False)"
   ]
  }
 ],
 "metadata": {
  "kernelspec": {
   "display_name": "Python 3",
   "language": "python",
   "name": "python3"
  },
  "language_info": {
   "codemirror_mode": {
    "name": "ipython",
    "version": 3
   },
   "file_extension": ".py",
   "mimetype": "text/x-python",
   "name": "python",
   "nbconvert_exporter": "python",
   "pygments_lexer": "ipython3",
   "version": "3.8.3"
  }
 },
 "nbformat": 4,
 "nbformat_minor": 4
}
